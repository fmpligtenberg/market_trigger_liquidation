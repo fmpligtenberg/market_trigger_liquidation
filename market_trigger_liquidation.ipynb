{
 "cells": [
  {
   "cell_type": "markdown",
   "id": "bc4b8988-161e-4ca7-87b1-6e57b99468b3",
   "metadata": {},
   "source": [
    "# The goals are:\n",
    "\n",
    "- Document the steps involved in assessing liquidations in Defi lending\n",
    "- Create a function that assesses the 'health' of a loan \n",
    "- Create a workflow that uses a market trigger to 'post margin' to prevent users from liquidations"
   ]
  },
  {
   "cell_type": "markdown",
   "id": "d89c1ca3-ea70-4e7d-b25c-e9546028e114",
   "metadata": {},
   "source": [
    "## 1. What metric(s) do defi lending protocols use to measure the 'health' of a loan?"
   ]
  },
  {
   "cell_type": "markdown",
   "id": "66a6055a-fd92-4fc2-afb4-88b66f40f5bc",
   "metadata": {},
   "source": [
    "### 1.1 Crypto-Liquidation Value (CLV)"
   ]
  },
  {
   "cell_type": "markdown",
   "id": "c68dcfdf-d5fc-473b-95d4-6523199007ff",
   "metadata": {},
   "source": [
    "#### 1.1a CLV: Notes"
   ]
  },
  {
   "cell_type": "markdown",
   "id": "35a3a980-9a89-4f0a-ad80-d005c60840cb",
   "metadata": {
    "tags": []
   },
   "source": [
    "one way to measure the sensitivity to liquidation for a loan backed by a cryptocurrency is to calculate the \"crypto-liquidation value\" (CLV). The CLV is the percentage decrease in the price of the cryptocurrency that would result in the loan being fully liquidated (i.e., the value of the collateral is equal to or less than the outstanding loan balance).\n",
    "\n",
    "The formula for CLV is:\n",
    "\n",
    "CLV = (LTV - 1) / (1 - MC)\n",
    "\n",
    "Where:\n",
    "\n",
    "- LTV is the loan-to-value ratio, expressed as a decimal (e.g., 0.5 for a 50% LTV. The loan-to-value ratio is the ratio of the loan amount to the value of the collateral.\n",
    "- MC is the maintenance collateral, expressed as a decimal (e.g., 0.15 for a 15% maintenance collateral). The maintenance collateral is the minimum collateral value required to maintain the loan. If the value of the collateral falls below the maintenance collateral, the lender may initiate a liquidation of the collateral to recover the loan amount. For example, if the maintenance collateral is set at 15%, the value of the collateral must be at least 15% higher than the outstanding loan balance to avoid liquidation.\n",
    " \n",
    "The CLV formula calculates the percentage decrease in the price of the cryptocurrency that would result in the loan being fully liquidated. For example, if the CLV is 30%, a 30% decrease in the price of the cryptocurrency would result in the value of the collateral being equal to or less than the outstanding loan balance, triggering liquidation.\n",
    "\n",
    "It is my understanding that LTV must be =< 0.67 (150% colateral)\n",
    "\n",
    "We will need to find out each protocols MC is in order to calculate CLV"
   ]
  },
  {
   "cell_type": "markdown",
   "id": "2a0e0b7e-f424-4846-94ef-f7513e35c45f",
   "metadata": {},
   "source": [
    "#### 1.1b CLV: Code"
   ]
  },
  {
   "cell_type": "code",
   "execution_count": 7,
   "id": "2f3126a3-3187-4452-9ab1-684d04ce4702",
   "metadata": {},
   "outputs": [],
   "source": [
    "def clv(ltv, mc):\n",
    "    \"\"\"\n",
    "    Calculates the crypto-liquidation value (CLV) for a loan backed by a cryptocurrency.\n",
    "\n",
    "    Parameters:\n",
    "    ltv (float): The loan-to-value ratio, expressed as a decimal.\n",
    "    mc (float): The maintenance collateral, expressed as a decimal.\n",
    "\n",
    "    Returns:\n",
    "    float: The crypto-liquidation value, expressed as a percentage.\n",
    "    \"\"\"\n",
    "    clv = (ltv - 1) / (1 - mc) * 100  # Calculate the CLV as a percentage\n",
    "    return clv"
   ]
  },
  {
   "cell_type": "code",
   "execution_count": 8,
   "id": "32d8c13c-96a6-4c63-b596-2142e6f41808",
   "metadata": {},
   "outputs": [
    {
     "name": "stdout",
     "output_type": "stream",
     "text": [
      "Crypto-liquidation value: -21.05%\n"
     ]
    }
   ],
   "source": [
    "# Example\n",
    "\n",
    "ltv = 0.8  # 50% LTV\n",
    "mc = 0.05  # 15% maintenance collateral\n",
    "clv = clv(ltv, mc)\n",
    "print(f\"Crypto-liquidation value: {clv:.2f}%\")"
   ]
  },
  {
   "cell_type": "markdown",
   "id": "6cb0bdba-3cce-4db0-b2c2-cbb0021f657e",
   "metadata": {},
   "source": [
    "#### 1.1c CLV: Data"
   ]
  },
  {
   "cell_type": "markdown",
   "id": "62e7f799-2704-4878-98eb-65866b0ddefc",
   "metadata": {},
   "source": [
    "- No data to be queried for CLV\n",
    "\n",
    "- We should be able to set MC ourselves for each protocol once we find out what it is\n",
    "\n",
    "- LTV should be a variable to be set by the customer "
   ]
  },
  {
   "cell_type": "markdown",
   "id": "5755fd07-a085-421a-98c0-0ffbbe1cceda",
   "metadata": {},
   "source": [
    "### 1.2 Volatility"
   ]
  },
  {
   "cell_type": "markdown",
   "id": "c5c6a01b-41d7-4f54-8af2-daa4ea0c7bf4",
   "metadata": {},
   "source": [
    "#### 1.2a Volatility: Notes"
   ]
  },
  {
   "cell_type": "markdown",
   "id": "0108896d-9b85-4a17-be5b-20766231c1d8",
   "metadata": {},
   "source": [
    "The CLV returns the % drawndown that would cause liquidation. The workflow needs to act before this value. \n",
    "\n",
    "The formula for calculating the variance threshold (VT) is as follows:\n",
    "\n",
    "Calculate the mean:\n",
    "Mean = SMA (Closing Price, n)\n",
    "\n",
    "Where:\n",
    "\n",
    "Closing Price is the closing price of the financial instrument over a specified time period (e.g., the last 20 trading days).\n",
    "n is the number of time periods used to calculate the SMA (e.g., 20 days).\n",
    "\n",
    "Calculate the variance threshold:\n",
    "Lower Band = Mean - (k * Standard Deviation)\n",
    "\n",
    "Where:\n",
    "\n",
    "Standard Deviation is a measure of the dispersion of the closing prices around the SMA.\n",
    "k is the number of standard deviations to add or subtract from the middle band to obtain the upper and lower bands. The most common value for k is 2."
   ]
  },
  {
   "cell_type": "markdown",
   "id": "b787a6f1-80f4-4648-92cf-2a7fe322bb94",
   "metadata": {},
   "source": [
    "#### 1.2b Volatility: Code"
   ]
  },
  {
   "cell_type": "code",
   "execution_count": 9,
   "id": "501bd97a-48bf-4e6c-a158-40232cdadc33",
   "metadata": {},
   "outputs": [],
   "source": [
    "import numpy as np\n",
    "\n",
    "def var_threshold(data, n, k):\n",
    "    \"\"\"\n",
    "    Calculates a value k standard deviations lower than a simple moving average (SMA) of the price of a token.\n",
    "\n",
    "    Parameters:\n",
    "    data (numpy.ndarray): An array of token prices.\n",
    "    n (int): The number of time periods used to calculate the SMA.\n",
    "    k (int): The number of standard deviations to subtract from the SMA.\n",
    "\n",
    "    Returns:\n",
    "    float: The var_threshold value.\n",
    "    \"\"\"\n",
    "    sma = np.mean(data[-n:])  # Calculate the SMA of the last n prices\n",
    "    std = np.std(data[-n:])   # Calculate the standard deviation of the last n prices\n",
    "    var_threshold = sma - (k * std)  # Calculate the lower band as k standard deviations below the SMA\n",
    "    return var_threshold"
   ]
  },
  {
   "cell_type": "code",
   "execution_count": 10,
   "id": "05326608-8ed3-417d-ad7c-e76d125b8514",
   "metadata": {},
   "outputs": [
    {
     "name": "stdout",
     "output_type": "stream",
     "text": [
      "The 20-day 2-sigma var_threshold is: 5.93\n"
     ]
    }
   ],
   "source": [
    "# Example\n",
    "\n",
    "data = [10, 12, 14, 16, 18, 20, 22, 24, 26, 28, 30, 32, 34, 36, 38, 40, 42, 44, 46, 48]  # Example token prices\n",
    "n = 20  # Calculate the 20-day SMA \n",
    "k = 2   # Calculate the var_threshold that is 2 standard deviations below the SMA\n",
    "var_threshold = var_threshold(data, n, k)\n",
    "print(f\"The {n}-day {k}-sigma var_threshold is: {var_threshold:.2f}\")"
   ]
  },
  {
   "cell_type": "markdown",
   "id": "508635ab-36b4-43db-9c1a-b9bf221fac0a",
   "metadata": {},
   "source": [
    "#### 1.2c Volatility: Data"
   ]
  },
  {
   "cell_type": "markdown",
   "id": "bc1d6c62-675d-4d6f-99f5-c8387dc8a1cf",
   "metadata": {},
   "source": [
    "- Pricing data needed (OHLC, really just C)\n",
    "    - Historical pricing data (SMA needs to be calculated using n periods back where the length of a period is set by the user)\n",
    "    - Live price feeds needed to update van_threshold and trigger workflow "
   ]
  },
  {
   "cell_type": "code",
   "execution_count": null,
   "id": "82548c6d-462b-486a-91ef-c813ac284a4e",
   "metadata": {},
   "outputs": [],
   "source": []
  },
  {
   "cell_type": "code",
   "execution_count": null,
   "id": "d7e91bdd-7879-4870-b2c6-4bb9f40f8167",
   "metadata": {},
   "outputs": [],
   "source": []
  },
  {
   "cell_type": "markdown",
   "id": "9ff9162f-f714-4112-84ad-6edc5b617526",
   "metadata": {},
   "source": [
    "## Random / Uncategorised "
   ]
  },
  {
   "cell_type": "markdown",
   "id": "0f753090-3550-4084-a314-c9000715ea74",
   "metadata": {},
   "source": [
    "Three things to conider are:\n",
    "- The Liquidation Prevention Threshold (LPT) to trigger the workflow (e.g. in the example above Crypto-liquidation value is -58.82%, therefore: -58.82 < LPT < 0, Generalized: CLV < LPT < 0). This will be a variable set by the user.\n",
    "- The LTV after margin has been posted (e.g. once the LPT has been met and the workflow is triggered the amount of new colateral must be calulated to reach the desired LTV)\n",
    "- Volatility "
   ]
  },
  {
   "cell_type": "markdown",
   "id": "ab633374-248c-4a42-98d5-94d181b89674",
   "metadata": {},
   "source": [
    "#### Start\n",
    "Set params:\n",
    "- Loan-to-value ratio (LTV)\t\t\t\tUser\n",
    "- Maintenance collateral (MC)\t\t\t\tProtocol\n",
    "- Liquidation Prevention Threshold (LPT)\t\tUser\n",
    "- Loan account \t\t\t\t\t\tUser\n",
    "- Margin account\t\t\t\t\tUser\n",
    "- Repeat bool\t\t\t\t\t\tUser\n",
    "- Time interval to query data\t\t\t\tUser/FMP\n",
    "\n",
    "#### Initialize \n",
    "Verify settings:\n",
    "- Crypto-Liquidation Value (CLV) \t\t\t\t\n",
    "- Verify loan account\t\t\t\t\t\n",
    "- Verify margin account\n",
    "- What happens if this account is active and falls below what is required to prevent liquidation?\n",
    "\n",
    "#### Idle\n",
    "Query:\n",
    "- Pricing data (OHLC)\n",
    "- Margin account\n",
    "\n",
    "#### Trigger \n",
    "Complete workflow:\n",
    "- Send x amount from margin account to loan account\n",
    "\n",
    "#### End | Start\n",
    "\n"
   ]
  },
  {
   "cell_type": "code",
   "execution_count": null,
   "id": "f0a1f8cc-410e-4c3b-9b9d-318fbf3b5c5f",
   "metadata": {},
   "outputs": [],
   "source": []
  },
  {
   "cell_type": "code",
   "execution_count": null,
   "id": "8d739683-a6ba-4c6b-b400-e22b8efe5dd8",
   "metadata": {},
   "outputs": [],
   "source": []
  }
 ],
 "metadata": {
  "kernelspec": {
   "display_name": "Python 3 (ipykernel)",
   "language": "python",
   "name": "python3"
  },
  "language_info": {
   "codemirror_mode": {
    "name": "ipython",
    "version": 3
   },
   "file_extension": ".py",
   "mimetype": "text/x-python",
   "name": "python",
   "nbconvert_exporter": "python",
   "pygments_lexer": "ipython3",
   "version": "3.9.13"
  }
 },
 "nbformat": 4,
 "nbformat_minor": 5
}
